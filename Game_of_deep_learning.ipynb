{
 "cells": [
  {
   "cell_type": "code",
   "execution_count": 2,
   "metadata": {},
   "outputs": [],
   "source": [
    "import torch\n",
    "import torch.optim\n",
    "import pandas as pd\n",
    "import os\n",
    "import seaborn as sns\n",
    "import numpy as np\n",
    "import matplotlib.pyplot as plt\n",
    "import matplotlib.image as mpimg\n",
    "import shutil\n",
    "from torch.utils import data\n",
    "import torchvision.datasets as datasets\n",
    "from torch.utils.data import DataLoader\n",
    "from torchvision.transforms import transforms\n",
    "import torchvision.transforms.functional as functional\n",
    "from skimage import io, transform\n",
    "import torch.nn as nn\n",
    "import torch.optim as optim\n",
    "import copy\n",
    "import torchvision\n",
    "from torch.utils.data.dataset import Dataset\n",
    "from torch.autograd import Variable\n",
    "from PIL import Image\n",
    "import cv2\n",
    "import pdb,tqdm\n",
    "%matplotlib inline"
   ]
  },
  {
   "cell_type": "code",
   "execution_count": 2,
   "metadata": {},
   "outputs": [],
   "source": [
    "device = torch.device('cuda' if torch.cuda.is_available() else 'cpu')"
   ]
  },
  {
   "cell_type": "code",
   "execution_count": 3,
   "metadata": {},
   "outputs": [],
   "source": [
    "def show_image(filename):\n",
    "    img = mpimg.imread('../data/train/images/'+filename)\n",
    "    imgplot = plt.imshow(img)\n",
    "    plt.show()"
   ]
  },
  {
   "cell_type": "code",
   "execution_count": 4,
   "metadata": {},
   "outputs": [],
   "source": [
    "def set_parameter_requires_grad(model, feature_extracting):\n",
    "    if feature_extracting:\n",
    "        for param in model.parameters():\n",
    "            param.requires_grad = False"
   ]
  },
  {
   "cell_type": "code",
   "execution_count": 5,
   "metadata": {},
   "outputs": [],
   "source": [
    "train_files = pd.read_csv('../data/train/train.csv')\n",
    "test_files = pd.read_csv('../data/test_ApKoW4T.csv')"
   ]
  },
  {
   "cell_type": "code",
   "execution_count": 6,
   "metadata": {},
   "outputs": [],
   "source": [
    "temp = Image.open(os.path.join('../data/train/images','683110.jpg'))"
   ]
  },
  {
   "cell_type": "code",
   "execution_count": 22,
   "metadata": {
    "ExecuteTime": {
     "end_time": "2019-05-27T17:15:23.781763Z",
     "start_time": "2019-05-27T17:15:23.775606Z"
    },
    "code_folding": []
   },
   "outputs": [],
   "source": [
    "class deep_learning_data(Dataset):\n",
    "    \n",
    "    def __init__(self, csv_file, root_dir, transform = None,y=True):\n",
    "        \n",
    "        self.root_dir = root_dir\n",
    "        self.transform = transform\n",
    "        self.files = pd.read_csv(csv_file)\n",
    "        self.y = y\n",
    "        \n",
    "    def __len__(self):\n",
    "        return len(self.files)\n",
    "    \n",
    "    def __getitem__(self, idx):\n",
    "        img_name = os.path.join(self.root_dir,\n",
    "                               self.files.iloc[idx,0])\n",
    "        image = Image.fromarray(cv2.imread(img_name))\n",
    "        if self.transform:\n",
    "            image = self.transform(image)\n",
    "        if (np.array(image.size()) == np.array([1,224,224])).all():\n",
    "            print(img_name)\n",
    "\n",
    "        return (image, self.files.iloc[idx,1]-1)\n",
    "        "
   ]
  },
  {
   "cell_type": "code",
   "execution_count": 28,
   "metadata": {
    "ExecuteTime": {
     "end_time": "2019-05-27T17:26:15.758328Z",
     "start_time": "2019-05-27T17:26:15.752873Z"
    }
   },
   "outputs": [],
   "source": [
    "img_transforms = {\n",
    "    'train': \n",
    "    transforms.Compose([\n",
    "#         transforms.RandomResizedCrop(size = 256, scale=(0.8,1.0)),\n",
    "#         transforms.RandomRotation(degrees = 15),\n",
    "#         transforms.ColorJitter(),\n",
    "#         transforms.RandomHorizontalFlip(),\n",
    "#         transforms.CenterCrop(size = 224),\n",
    "        transforms.Resize(size =(224,224)),\n",
    "        transforms.ToTensor(),\n",
    "        transforms.Normalize([0.5,0.5,0.5],[0.5,0.5,0.5])\n",
    "    ]),\n",
    "    \n",
    "    'valid':\n",
    "    transforms.Compose([\n",
    "        transforms.Resize(size=(224,224)),\n",
    "#         transforms.CenterCrop(size=224),\n",
    "        transforms.ToTensor(),\n",
    "        transforms.Normalize([0.5,0.5,0.5],[0.5,0.5,0.5])\n",
    "    ])\n",
    "}"
   ]
  },
  {
   "cell_type": "code",
   "execution_count": 29,
   "metadata": {
    "ExecuteTime": {
     "end_time": "2019-05-27T17:26:16.526616Z",
     "start_time": "2019-05-27T17:26:16.511158Z"
    }
   },
   "outputs": [],
   "source": [
    "train_dataset= deep_learning_data(csv_file = '../data/train/train.csv',\n",
    "                                 root_dir = '../data/train/images',\n",
    "                                 transform = img_transforms['train'])\n",
    "# test_dataset = deep_learning_data(csv_file = '../data/test_ApKoW4T.csv',\n",
    "#                                  root_dir = '../data/train/images',\n",
    "#                                  transform = img_transforms['valid'])"
   ]
  },
  {
   "cell_type": "code",
   "execution_count": 49,
   "metadata": {
    "ExecuteTime": {
     "end_time": "2019-05-27T17:26:16.702375Z",
     "start_time": "2019-05-27T17:26:16.699402Z"
    }
   },
   "outputs": [],
   "source": [
    "train_dataloader = DataLoader(train_dataset,batch_size = 12,\n",
    "                       shuffle = True, num_workers = 4)"
   ]
  },
  {
   "cell_type": "code",
   "execution_count": 50,
   "metadata": {
    "ExecuteTime": {
     "end_time": "2019-05-27T17:26:26.981849Z",
     "start_time": "2019-05-27T17:26:26.568447Z"
    }
   },
   "outputs": [
    {
     "data": {
      "image/png": "[encoded data removed]",
      "text/plain": [
       "<Figure size 432x288 with 1 Axes>"
      ]
     },
     "metadata": {
      "needs_background": "light"
     },
     "output_type": "display_data"
    }
   ],
   "source": [
    "def imshow(inp, title=None):\n",
    "    \"\"\"Imshow for Tensor.\"\"\"\n",
    "    inp = inp.numpy().transpose((1, 2, 0))\n",
    "    inp = np.clip(inp, 0, 1)\n",
    "    plt.imshow(inp)\n",
    "    if title is not None:\n",
    "        plt.title(title)  # pause a bit so that plots are updated\n",
    "\n",
    "\n",
    "# Get a batch of training data\n",
    "# inputs contains 4 images because batch_size=4 for the dataloaders\n",
    "inputs, classes = next(iter(train_dataloader))\n",
    "\n",
    "# Make a grid from batch\n",
    "out = torchvision.utils.make_grid(inputs)\n",
    "imshow(out)"
   ]
  },
  {
   "cell_type": "code",
   "execution_count": 12,
   "metadata": {
    "ExecuteTime": {
     "end_time": "2019-05-27T17:26:26.988054Z",
     "start_time": "2019-05-27T17:26:26.984878Z"
    }
   },
   "outputs": [],
   "source": [
    "from torchvision import models"
   ]
  },
  {
   "cell_type": "code",
   "execution_count": 51,
   "metadata": {
    "ExecuteTime": {
     "end_time": "2019-05-27T17:27:19.351602Z",
     "start_time": "2019-05-27T17:27:18.509919Z"
    }
   },
   "outputs": [],
   "source": [
    "num_classes = 5\n",
    "model = models.resnet101(pretrained=False)\n",
    "set_parameter_requires_grad(model,True)\n",
    "num_feats = model.fc.in_features\n",
    "model.fc = nn.Linear(num_feats, num_classes)\n",
    "# model.conv1 = nn.Conv2d(1, 64, kernel_size=(7, 7), stride=(2, 2), padding=(3, 3), bias=False)\n",
    "input_size = 224"
   ]
  },
  {
   "cell_type": "code",
   "execution_count": 21,
   "metadata": {
    "code_folding": [
     0
    ]
   },
   "outputs": [],
   "source": [
    "def conv3x3(in_channels, out_channels, stride=1):\n",
    "    return nn.Conv2d(in_channels, out_channels, kernel_size=3, \n",
    "                     stride=stride, padding=1, bias=False)\n"
   ]
  },
  {
   "cell_type": "code",
   "execution_count": null,
   "metadata": {
    "code_folding": [
     0,
     24
    ]
   },
   "outputs": [],
   "source": [
    "class ResidualBlock(nn.Module):\n",
    "    def __init__(self, in_channels, out_channels, stride=1, downsample=None):\n",
    "        super(ResidualBlock, self).__init__()\n",
    "        self.conv1 = conv3x3(in_channels, out_channels, stride)\n",
    "        self.bn1 = nn.BatchNorm2d(out_channels)\n",
    "        self.relu = nn.ReLU(inplace=True)\n",
    "        self.conv2 = conv3x3(out_channels, out_channels)\n",
    "        self.bn2 = nn.BatchNorm2d(out_channels)\n",
    "        self.downsample = downsample\n",
    "        \n",
    "    def forward(self, x):\n",
    "        residual = x\n",
    "        out = self.conv1(x)\n",
    "        out = self.bn1(out)\n",
    "        out = self.relu(out)\n",
    "        out = self.conv2(out)\n",
    "        out = self.bn2(out)\n",
    "        if self.downsample:\n",
    "            residual = self.downsample(x)\n",
    "        out += residual\n",
    "        out = self.relu(out)\n",
    "        return out\n",
    "\n",
    "# ResNet\n",
    "class ResNet(nn.Module):\n",
    "    def __init__(self, block, layers, num_classes=10):\n",
    "        super(ResNet, self).__init__()\n",
    "        self.in_channels = 16\n",
    "        self.conv = conv3x3(3, 16)\n",
    "        self.bn = nn.BatchNorm2d(16)\n",
    "        self.relu = nn.ReLU(inplace=True)\n",
    "        self.layer1 = self.make_layer(block, 16, layers[0])\n",
    "        self.layer2 = self.make_layer(block, 32, layers[1], 2)\n",
    "        self.layer3 = self.make_layer(block, 64, layers[2], 2)\n",
    "        self.avg_pool = nn.AvgPool2d(8)\n",
    "        self.fc = nn.Linear(64, num_classes)\n",
    "        \n",
    "    def make_layer(self, block, out_channels, blocks, stride=1):\n",
    "        downsample = None\n",
    "        if (stride != 1) or (self.in_channels != out_channels):\n",
    "            downsample = nn.Sequential(\n",
    "                conv3x3(self.in_channels, out_channels, stride=stride),\n",
    "                nn.BatchNorm2d(out_channels))\n",
    "        layers = []\n",
    "        layers.append(block(self.in_channels, out_channels, stride, downsample))\n",
    "        self.in_channels = out_channels\n",
    "        for i in range(1, blocks):\n",
    "            layers.append(block(out_channels, out_channels))\n",
    "        return nn.Sequential(*layers)\n",
    "    \n",
    "    def forward(self, x):\n",
    "        out = self.conv(x)\n",
    "        out = self.bn(out)\n",
    "        out = self.relu(out)\n",
    "        out = self.layer1(out)\n",
    "        out = self.layer2(out)\n",
    "        out = self.layer3(out)\n",
    "        out = self.avg_pool(out)\n",
    "        out = out.view(out.size(0), -1)\n",
    "        out = self.fc(out)\n",
    "        return out\n",
    "    \n",
    "# model = ResNet(ResidualBlock, [2,2,2]).to(device)"
   ]
  },
  {
   "cell_type": "code",
   "execution_count": 52,
   "metadata": {
    "ExecuteTime": {
     "end_time": "2019-05-27T17:26:48.720463Z",
     "start_time": "2019-05-27T17:26:48.713707Z"
    },
    "scrolled": true
   },
   "outputs": [
    {
     "name": "stdout",
     "output_type": "stream",
     "text": [
      "\t fc.weight\n",
      "\t fc.bias\n"
     ]
    }
   ],
   "source": [
    "params_to_update = model.parameters()\n",
    "params_to_update = []\n",
    "for name,param in model.named_parameters():\n",
    "    if param.requires_grad == True:\n",
    "        params_to_update.append(param)\n",
    "        print('\\t',name)"
   ]
  },
  {
   "cell_type": "code",
   "execution_count": 53,
   "metadata": {
    "ExecuteTime": {
     "end_time": "2019-05-27T17:26:49.836369Z",
     "start_time": "2019-05-27T17:26:49.832602Z"
    }
   },
   "outputs": [],
   "source": [
    "optimizer = optim.SGD(params_to_update, lr= 0.001, momentum = 0.9)\n",
    "criterion = nn.CrossEntropyLoss()"
   ]
  },
  {
   "cell_type": "code",
   "execution_count": 54,
   "metadata": {},
   "outputs": [],
   "source": [
    "model = model.cuda()\n",
    "model = nn.DataParallel(model)"
   ]
  },
  {
   "cell_type": "code",
   "execution_count": 55,
   "metadata": {
    "ExecuteTime": {
     "end_time": "2019-05-27T17:26:52.096297Z",
     "start_time": "2019-05-27T17:26:51.569150Z"
    },
    "scrolled": true
   },
   "outputs": [
    {
     "data": {
      "application/vnd.jupyter.widget-view+json": {
       "model_id": "ec3adfb9738740c6bcef33ba183b5e1d",
       "version_major": 2,
       "version_minor": 0
      },
      "text/plain": [
       "HBox(children=(IntProgress(value=0, max=20), HTML(value='')))"
      ]
     },
     "metadata": {},
     "output_type": "display_data"
    },
    {
     "data": {
      "application/vnd.jupyter.widget-view+json": {
       "model_id": "ded0450e5831485a9b3358b5a7d0e83f",
       "version_major": 2,
       "version_minor": 0
      },
      "text/plain": [
       "HBox(children=(IntProgress(value=0, max=521), HTML(value='')))"
      ]
     },
     "metadata": {},
     "output_type": "display_data"
    },
    {
     "name": "stdout",
     "output_type": "stream",
     "text": [
      "Train Loss : 0.0033 Acc: 0.0005\n",
      "Train Loss : 0.0041 Acc: 0.0003\n",
      "Train Loss : 0.0033 Acc: 0.0003\n",
      "Train Loss : 0.0033 Acc: 0.0003\n",
      "Train Loss : 0.0040 Acc: 0.0002\n",
      "Train Loss : 0.0033 Acc: 0.0003\n",
      "Train Loss : 0.0038 Acc: 0.0002\n",
      "Train Loss : 0.0041 Acc: 0.0000\n",
      "Train Loss : 0.0040 Acc: 0.0008\n",
      "Train Loss : 0.0036 Acc: 0.0003\n",
      "Train Loss : 0.0042 Acc: 0.0006\n",
      "Train Loss : 0.0032 Acc: 0.0005\n",
      "Train Loss : 0.0030 Acc: 0.0005\n",
      "Train Loss : 0.0040 Acc: 0.0006\n",
      "Train Loss : 0.0031 Acc: 0.0008\n",
      "Train Loss : 0.0027 Acc: 0.0008\n",
      "Train Loss : 0.0050 Acc: 0.0005\n",
      "Train Loss : 0.0032 Acc: 0.0002\n",
      "Train Loss : 0.0025 Acc: 0.0011\n",
      "Train Loss : 0.0033 Acc: 0.0006\n"
     ]
    }
   ],
   "source": [
    "n_epochs = 20\n",
    "\n",
    "val_acc_history = []\n",
    "\n",
    "# best_model_wts = copy.deepcopy(model.cpu().state_dict())\n",
    "\n",
    "best_acc = 0.0\n",
    "t = tqdm.tqdm_notebook(range(n_epochs))\n",
    "k = tqdm.tqdm_notebook(train_dataloader)\n",
    "for epoch in t:\n",
    "    running_loss = 0.0\n",
    "    running_corrects = 0\n",
    "\n",
    "    for inputs, labels in k:\n",
    "#             pdb.set_trace()\n",
    "#             print(inputs.shape)\n",
    "        inputs = inputs.cuda()\n",
    "        labels = labels.cuda()\n",
    "\n",
    "        optimizer.zero_grad()\n",
    "        outputs = model(inputs)\n",
    "        loss = criterion(outputs, labels)\n",
    "\n",
    "        _, preds = torch.max(outputs,1)\n",
    "\n",
    "        loss.backward()\n",
    "        optimizer.step()\n",
    "\n",
    "    running_loss += loss.item() * inputs.size(0)\n",
    "    running_corrects += torch.sum(preds == labels.data)\n",
    "        \n",
    "    epoch_loss = running_loss / len(train_dataloader.dataset)\n",
    "    epoch_acc = running_corrects.double() / len(train_dataloader.dataset)\n",
    "    \n",
    "    print('{} Loss : {:.4f} Acc: {:.4f}'.format('Train',epoch_loss,epoch_acc))\n",
    "\n",
    "# model.load_state_dict(best_model_wts)"
   ]
  },
  {
   "cell_type": "code",
   "execution_count": 57,
   "metadata": {},
   "outputs": [
    {
     "data": {
      "text/plain": [
       "(tensor([[ 0.4472,  0.5392,  0.5758,  0.3173, -0.6830],\n",
       "         [ 0.9762, -0.0185,  1.1549, -0.0827, -0.7348],\n",
       "         [ 1.4219,  0.6010,  0.4793, -0.0957, -0.8416],\n",
       "         [ 1.1495,  2.0093,  1.2742,  0.3750, -0.9119],\n",
       "         [ 0.9508,  0.3739,  0.2587, -0.7268, -0.0946],\n",
       "         [ 0.7517,  0.3639,  0.2690, -0.4892,  0.0301],\n",
       "         [ 1.6158,  1.3846,  0.0123,  0.3492, -1.2049],\n",
       "         [ 1.9726, -0.8144,  1.4166, -0.0063,  0.1785],\n",
       "         [ 0.0757,  1.2509,  0.4445, -0.2782, -0.6719],\n",
       "         [ 0.4268,  1.2988,  0.0083,  0.2511, -1.0609],\n",
       "         [ 1.3078,  1.9564,  0.4360,  0.2964, -0.4850],\n",
       "         [ 1.1586,  1.1281, -0.6713, -0.3661, -0.2560]], device='cuda:0',\n",
       "        grad_fn=<AddmmBackward>),\n",
       " tensor([2, 4, 1, 1, 1, 0, 1, 4, 2, 1, 4, 3], device='cuda:0'))"
      ]
     },
     "execution_count": 57,
     "metadata": {},
     "output_type": "execute_result"
    }
   ],
   "source": [
    "outputs,labels"
   ]
  }
 ],
 "metadata": {
  "kernelspec": {
   "display_name": "Python 3",
   "language": "python",
   "name": "python3"
  },
  "language_info": {
   "codemirror_mode": {
    "name": "ipython",
    "version": 3
   },
   "file_extension": ".py",
   "mimetype": "text/x-python",
   "name": "python",
   "nbconvert_exporter": "python",
   "pygments_lexer": "ipython3",
   "version": "3.7.3"
  }
 },
 "nbformat": 4,
 "nbformat_minor": 2
}
