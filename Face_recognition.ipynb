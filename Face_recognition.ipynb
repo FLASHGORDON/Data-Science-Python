{
 "cells": [
  {
   "cell_type": "code",
   "execution_count": 3,
   "metadata": {
    "ExecuteTime": {
     "end_time": "2018-07-03T04:29:12.035225Z",
     "start_time": "2018-07-03T04:29:12.033206Z"
    }
   },
   "outputs": [],
   "source": [
    "import sys\n",
    "import dlib\n",
    "from skimage import io\n",
    "import os"
   ]
  },
  {
   "cell_type": "code",
   "execution_count": 5,
   "metadata": {
    "ExecuteTime": {
     "end_time": "2018-07-03T04:29:34.208959Z",
     "start_time": "2018-07-03T04:29:34.204970Z"
    }
   },
   "outputs": [],
   "source": [
    "path = '../../Downloads/SHAREit/Redmi Y1/file'"
   ]
  },
  {
   "cell_type": "code",
   "execution_count": 31,
   "metadata": {
    "ExecuteTime": {
     "end_time": "2018-07-03T04:44:59.255769Z",
     "start_time": "2018-07-03T04:44:59.251772Z"
    }
   },
   "outputs": [],
   "source": [
    "file_name = f'{path}/{os.listdir(path)[79]}'"
   ]
  },
  {
   "cell_type": "code",
   "execution_count": 32,
   "metadata": {
    "ExecuteTime": {
     "end_time": "2018-07-03T04:45:00.120129Z",
     "start_time": "2018-07-03T04:44:59.798947Z"
    }
   },
   "outputs": [],
   "source": [
    "face_detector = dlib.get_frontal_face_detector()\n",
    "\n",
    "win = dlib.image_window()\n",
    "image= io.imread(file_name)"
   ]
  },
  {
   "cell_type": "code",
   "execution_count": 33,
   "metadata": {
    "ExecuteTime": {
     "end_time": "2018-07-03T04:45:00.228599Z",
     "start_time": "2018-07-03T04:45:00.141831Z"
    }
   },
   "outputs": [
    {
     "name": "stdout",
     "output_type": "stream",
     "text": [
      "I found 1 faces in the file ../../Downloads/SHAREit/Redmi Y1/file/1529464319772.jpg\n"
     ]
    }
   ],
   "source": [
    "detected_faces = face_detector(image, 1)\n",
    "\n",
    "print('I found {} faces in the file {}'.format(len(detected_faces),file_name))\n",
    "\n",
    "win.set_image(image)"
   ]
  },
  {
   "cell_type": "code",
   "execution_count": 34,
   "metadata": {
    "ExecuteTime": {
     "end_time": "2018-07-03T04:45:01.029442Z",
     "start_time": "2018-07-03T04:45:01.025448Z"
    }
   },
   "outputs": [
    {
     "name": "stdout",
     "output_type": "stream",
     "text": [
      "- Face #0 found at left: 11 Top: 46 Right: 73 Bottom: 108\n"
     ]
    }
   ],
   "source": [
    "for i,face_rect in enumerate(detected_faces):\n",
    "    print('- Face #{} found at left: {} Top: {} Right: {} Bottom: {}'\n",
    "          .format(i,\n",
    "                 face_rect.left(),\n",
    "                 face_rect.top(),\n",
    "                 face_rect.right(),\n",
    "                 face_rect.bottom()))\n",
    "          \n",
    "    win.add_overlay(face_rect)\n",
    "          \n"
   ]
  },
  {
   "cell_type": "code",
   "execution_count": null,
   "metadata": {},
   "outputs": [],
   "source": []
  }
 ],
 "metadata": {
  "kernelspec": {
   "display_name": "Python 3",
   "language": "python",
   "name": "python3"
  },
  "language_info": {
   "codemirror_mode": {
    "name": "ipython",
    "version": 3
   },
   "file_extension": ".py",
   "mimetype": "text/x-python",
   "name": "python",
   "nbconvert_exporter": "python",
   "pygments_lexer": "ipython3",
   "version": "3.6.5"
  }
 },
 "nbformat": 4,
 "nbformat_minor": 2
}
