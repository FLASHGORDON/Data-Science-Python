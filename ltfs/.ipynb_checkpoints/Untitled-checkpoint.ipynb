{
 "cells": [
  {
   "cell_type": "markdown",
   "metadata": {},
   "source": [
    "# Preliminary Tasks"
   ]
  },
  {
   "cell_type": "code",
   "execution_count": 192,
   "metadata": {
    "ExecuteTime": {
     "end_time": "2019-04-17T15:32:10.454945Z",
     "start_time": "2019-04-17T15:31:55.570369Z"
    }
   },
   "outputs": [],
   "source": [
    "import pandas as pd\n",
    "import numpy as np\n",
    "import os\n",
    "import matplotlib.pyplot as plt\n",
    "import seaborn as sns\n",
    "import pandas_profiling\n",
    "from datetime import datetime\n",
    "from sklearn.preprocessing import MinMaxScaler, StandardScaler, power_transform\n",
    "from sklearn.linear_model import LinearRegression, ElasticNet\n",
    "from sklearn.ensemble import RandomForestRegressor, RandomForestClassifier\n",
    "from sklearn.model_selection import RandomizedSearchCV, StratifiedKFold\n",
    "from sklearn.metrics import r2_score\n",
    "\n",
    "%matplotlib inline\n",
    "\n",
    "from xgboost import XGBClassifier\n",
    "import xgboost\n",
    "from lightgbm import LGBMClassifier\n",
    "import lightgbm\n",
    "from vecstack import stacking\n",
    "\n",
    "from sklearn.metrics import accuracy_score, precision_score, roc_auc_score,auc,roc_curve\n",
    "from sklearn.model_selection import train_test_split\n",
    "from jupyterthemes import jtplot\n",
    "\n",
    "import torch\n",
    "import torch.nn as nn\n",
    "from torch.nn import functional as F\n",
    "from torch.autograd import Variable\n",
    "from lightgbm import LGBMClassifier\n",
    "from torch.utils.data import DataLoader\n",
    "import lightgbm\n",
    "import keras\n",
    "from keras.models import Sequential, Model\n",
    "from keras.layers import Input, Dense, Dropout, Activation\n",
    "from keras.layers.normalization import BatchNormalization\n",
    "from keras.callbacks import EarlyStopping, ModelCheckpoint, CSVLogger, Callback\n",
    "from keras.wrappers.scikit_learn import KerasClassifier\n",
    "\n",
    "pd.set_option('display.max_rows', 500)\n",
    "pd.set_option('display.max_columns', 500)\n",
    "pd.set_option('display.width', 1000)\n",
    "\n",
    "# currently installed theme will be used to\n",
    "# set plot style if no arguments provided\n",
    "jtplot.style(theme='solarizedl', grid=False)"
   ]
  },
  {
   "cell_type": "markdown",
   "metadata": {},
   "source": [
    "## Reading Data"
   ]
  },
  {
   "cell_type": "code",
   "execution_count": 47,
   "metadata": {
    "ExecuteTime": {
     "end_time": "2019-04-17T15:32:10.731681Z",
     "start_time": "2019-04-17T15:32:10.456953Z"
    }
   },
   "outputs": [],
   "source": [
    "train_data = pd.read_csv('../Data/ltfs/train.csv')\n",
    "test_data = pd.read_csv('../Data/ltfs/test_bqCt9Pv.csv')"
   ]
  },
  {
   "cell_type": "code",
   "execution_count": 48,
   "metadata": {},
   "outputs": [],
   "source": [
    "train_data.columns = [i.lower().replace('.', '_') for i in train_data.columns]\n",
    "test_data.columns = [i.lower().replace('.', '_') for i in test_data.columns]"
   ]
  },
  {
   "cell_type": "code",
   "execution_count": 49,
   "metadata": {},
   "outputs": [],
   "source": [
    "id_columns = [i for i in train_data.columns if '_id' in i]\n",
    "flag_cols = [i for i in train_data.columns if 'flag' in i]"
   ]
  },
  {
   "cell_type": "markdown",
   "metadata": {},
   "source": [
    "## Functions"
   ]
  },
  {
   "cell_type": "code",
   "execution_count": 212,
   "metadata": {},
   "outputs": [],
   "source": [
    "class roc_auc_callback(Callback):\n",
    "    def __init__(self,training_data,validation_data):\n",
    "        self.x = training_data[0]\n",
    "        self.y = training_data[1]\n",
    "        self.x_val = validation_data[0]\n",
    "        self.y_val = validation_data[1]\n",
    "\n",
    "    def on_train_begin(self, logs={}):\n",
    "        return\n",
    "\n",
    "    def on_train_end(self, logs={}):\n",
    "        return\n",
    "\n",
    "    def on_epoch_begin(self, epoch, logs={}):\n",
    "        return\n",
    "\n",
    "    def on_epoch_end(self, epoch, logs={}):\n",
    "        y_pred = self.model.predict_proba(self.x, verbose=0)\n",
    "        roc = roc_auc_score(self.y, y_pred)\n",
    "        logs['roc_auc'] = roc_auc_score(self.y, y_pred)\n",
    "        logs['norm_gini'] = ( roc_auc_score(self.y, y_pred) * 2 ) - 1\n",
    "\n",
    "        y_pred_val = self.model.predict_proba(self.x_val, verbose=0)\n",
    "        roc_val = roc_auc_score(self.y_val, y_pred_val)\n",
    "        logs['roc_auc_val'] = roc_auc_score(self.y_val, y_pred_val)\n",
    "        logs['norm_gini_val'] = ( roc_auc_score(self.y_val, y_pred_val) * 2 ) - 1\n",
    "\n",
    "        print('\\rroc_auc: %s - roc_auc_val: %s - norm_gini: %s - norm_gini_val: %s' % (str(round(roc,5)),str(round(roc_val,5)),str(round((roc*2-1),5)),str(round((roc_val*2-1),5))), end=10*' '+'\\n')\n",
    "        return\n",
    "\n",
    "    def on_batch_begin(self, batch, logs={}):\n",
    "        return\n",
    "\n",
    "    def on_batch_end(self, batch, logs={}):\n",
    "        return\n",
    "def baseline_model():\n",
    "        model = Sequential()\n",
    "        model.add(Dense(200,input_dim=3,kernel_initializer='glorot_normal'))\n",
    "        model.add(Activation('relu'))\n",
    "        model.add(BatchNormalization())\n",
    "        model.add(Dropout(0.5))\n",
    "        model.add(Dense(100, kernel_initializer='glorot_normal'))\n",
    "        model.add(Activation('relu'))\n",
    "        model.add(BatchNormalization())\n",
    "        model.add(Dropout(0.25))\n",
    "        model.add(Dense(50, kernel_initializer='glorot_normal'))\n",
    "        model.add(Activation('relu'))\n",
    "        model.add(BatchNormalization())\n",
    "        model.add(Dropout(0.15))\n",
    "        model.add(Dense(25, kernel_initializer='glorot_normal'))\n",
    "        model.add(Activation('relu'))\n",
    "        model.add(BatchNormalization())\n",
    "        model.add(Dropout(0.1))\n",
    "        model.add(Dense(2, activation='sigmoid'))\n",
    "\n",
    "        # Compile model\n",
    "        model.compile(optimizer='adam', metrics = ['accuracy'], loss='binary_crossentropy')\n",
    "\n",
    "        return model"
   ]
  },
  {
   "cell_type": "code",
   "execution_count": 5,
   "metadata": {},
   "outputs": [],
   "source": [
    "# Function to find the best n_estimators for xgboost model\n",
    "def best_n_est(params, train, test, early_stopping_rounds=100, verbose=1):\n",
    "    num_rounds = 20000\n",
    "    np.random.seed(47)\n",
    "    watchlist = [(train, 'train'), (test, 'eval')]\n",
    "    model = xgboost.train(params,\n",
    "                          train,\n",
    "                          num_rounds,\n",
    "                          watchlist,\n",
    "                          early_stopping_rounds=early_stopping_rounds,\n",
    "                          verbose_eval=verbose)\n",
    "\n",
    "    return model.best_iteration"
   ]
  },
  {
   "cell_type": "code",
   "execution_count": 6,
   "metadata": {},
   "outputs": [],
   "source": [
    "def convert(df, columns):\n",
    "    for i in columns:\n",
    "        df[i] = lb.fit_transform(df[i])\n",
    "    return df"
   ]
  },
  {
   "cell_type": "code",
   "execution_count": 7,
   "metadata": {},
   "outputs": [],
   "source": [
    "def my_plot_importance(booster, figsize, **kwargs):\n",
    "    from matplotlib import pyplot as plt\n",
    "    from xgboost import plot_importance\n",
    "    fig, ax = plt.subplots(1, 1, figsize=figsize)\n",
    "    return plot_importance(booster=booster, ax=ax, **kwargs)"
   ]
  },
  {
   "cell_type": "code",
   "execution_count": 8,
   "metadata": {},
   "outputs": [],
   "source": [
    "def normalize_cols(df, cols):\n",
    "    data = df.copy()\n",
    "    for i in cols:\n",
    "        data.loc[:, i] = power_transform(data[i].values.reshape(-1, 1),\n",
    "                                         method='yeo-johnson')[:, 0] * 10\n",
    "    return data"
   ]
  },
  {
   "cell_type": "code",
   "execution_count": 9,
   "metadata": {},
   "outputs": [],
   "source": [
    "def convert_col(df, cols):\n",
    "    data = df.copy()\n",
    "    for i in cols:\n",
    "        data[i] = data[i].replace(\n",
    "            regex=True, to_replace=r'\\D',\n",
    "            value=r' ').apply(lambda x: int(x.strip().split('    ')[0]) * 12 +\n",
    "                              int(x.strip().split('    ')[1]))\n",
    "    return data"
   ]
  },
  {
   "cell_type": "code",
   "execution_count": 25,
   "metadata": {},
   "outputs": [],
   "source": [
    "def optimal_xgboost(x, y, params = None,folds = 3, param_combo = 5, apply_xgboost = False):\n",
    "    if params is None:\n",
    "        params = {\n",
    "            'min_child_weight': [1, 5, 10],\n",
    "            'gamma': [0.5, 1, 1.5, 2, 5],\n",
    "            'subsample': [0.6, 0.8, 1.0],\n",
    "            'colsample_bytree': [0.6, 0.8, 1.0],\n",
    "            'max_depth': [3, 4, 5],\n",
    "            'n_estimators': [600],\n",
    "            'learning_rate':[0.1]\n",
    "            }\n",
    "        \n",
    "    xgb = XGBClassifier(objective='binary:logistic',silent=True, nthread=1)\n",
    "    skf = StratifiedKFold(n_splits=folds, shuffle = True, random_state = 42)\n",
    "    random_search = RandomizedSearchCV(xgb, param_distributions=params,\n",
    "                                       n_iter=param_combo, scoring='roc_auc', \n",
    "                                       n_jobs=6, cv=skf.split(x,y), \n",
    "                                       verbose=3, random_state=42 )\n",
    "    random_search.fit(x,y)\n",
    "    \n",
    "    if apply_xgboost:\n",
    "        xgb_model = XGBClassifier(**random_search.best_params_)\n",
    "        xgb_model.fit(x,y)\n",
    "        \n",
    "        return xgb_model\n",
    "    return random_search"
   ]
  },
  {
   "cell_type": "code",
   "execution_count": 27,
   "metadata": {},
   "outputs": [],
   "source": [
    "def submit(output_no,data,train_cols,model):\n",
    "    x_holdout = pd.get_dummies(data[train_cols])\n",
    "    data['prediction'] = model.predict_proba(x_holdout)[:,1]\n",
    "    data['loan_default'] = data['prediction']\n",
    "    temp = data[['uniqueid','loan_default']]\n",
    "    temp.columns = ['UniqueID','loan_default']\n",
    "    temp.to_csv('./output_%s.csv'%(output_no), index=False)\n",
    "    output = pd.read_csv('./output_%s.csv'%(output_no))"
   ]
  },
  {
   "cell_type": "code",
   "execution_count": 118,
   "metadata": {},
   "outputs": [],
   "source": [
    "import pdb"
   ]
  },
  {
   "cell_type": "code",
   "execution_count": 124,
   "metadata": {},
   "outputs": [],
   "source": [
    "def create_cols(df,cols):\n",
    "    data = df.copy()\n",
    "    temp_1 = pd.DataFrame()\n",
    "    for i in cols:\n",
    "        temp = data[[i,'person_age','uniqueid','perform_cns_score','pri_current_balance']].groupby(i,as_index = False).agg({'person_age': ['mean','max','min'],\n",
    "                                                                 'perform_cns_score': ['mean','max','min'],\n",
    "                                                                 'uniqueid': 'count',\n",
    "                                                                 'pri_current_balance': ['mean','max','min']})\n",
    "#         print(temp)\n",
    "        temp.columns = [i,i+'_age_mean',i+'_age_max',i+'_age_min',\n",
    "                        i+'_score_mean',i+'_score_max',i+'_score_min',\n",
    "                        i+'_pop_count',i+'_bal_mean',i+'_bal_max',i+'_bal_min']\n",
    "        \n",
    "        data = data.merge(temp, on = i, how ='left')\n",
    "        \n",
    "    return data"
   ]
  },
  {
   "cell_type": "code",
   "execution_count": 106,
   "metadata": {},
   "outputs": [],
   "source": [
    "class nueral_net(nn.Module):\n",
    "    def __init__(self):\n",
    "        super(nueral_net, self).__init__()\n",
    "        self.fc1 = nn.Linear(3,7)\n",
    "        self.fc2 = nn.Linear(7,16)\n",
    "        self.fc3 = nn.Linear(16,5)\n",
    "        \n",
    "    def forward(self,x):\n",
    "        x = F.relu(self.fc1(x))\n",
    "        x = F.relu(self.fc2(x))\n",
    "        x = F.sigmoid(self.fc3(x))\n",
    "        return x"
   ]
  },
  {
   "cell_type": "markdown",
   "metadata": {},
   "source": [
    "# Data Cleaning"
   ]
  },
  {
   "cell_type": "code",
   "execution_count": null,
   "metadata": {
    "scrolled": true
   },
   "outputs": [],
   "source": [
    "train_data.isnull().sum(), test_data.isnull().sum()"
   ]
  },
  {
   "cell_type": "code",
   "execution_count": 50,
   "metadata": {},
   "outputs": [],
   "source": [
    "# convertin\n",
    "train_data = convert_col(train_data,\n",
    "                           ['credit_history_length', 'average_acct_age'])\n",
    "test_data = convert_col(test_data,\n",
    "                          ['credit_history_length', 'average_acct_age'])"
   ]
  },
  {
   "cell_type": "markdown",
   "metadata": {
    "heading_collapsed": true
   },
   "source": [
    "# Exploration"
   ]
  },
  {
   "cell_type": "code",
   "execution_count": null,
   "metadata": {
    "hidden": true
   },
   "outputs": [],
   "source": [
    "exp_cols = [i for i in train_data.columns if 'pri' in i\n",
    "            ] + [i for i in train_data.columns if 'sec' in i]"
   ]
  },
  {
   "cell_type": "code",
   "execution_count": null,
   "metadata": {
    "hidden": true
   },
   "outputs": [],
   "source": [
    "# Train data description\n",
    "pandas_profiling.ProfileReport(train_data[exp_cols])"
   ]
  },
  {
   "cell_type": "code",
   "execution_count": null,
   "metadata": {
    "hidden": true
   },
   "outputs": [],
   "source": [
    "# Test data description\n",
    "pandas_profiling.ProfileReport(test_data[exp_cols])"
   ]
  },
  {
   "cell_type": "markdown",
   "metadata": {
    "heading_collapsed": true,
    "hidden": true
   },
   "source": [
    "## Categorical columns exploration\n",
    "<br>\n",
    "\n",
    "* mobileno_avl_flag not required due to low cardinality"
   ]
  },
  {
   "cell_type": "code",
   "execution_count": null,
   "metadata": {
    "hidden": true
   },
   "outputs": [],
   "source": [
    "plt.figure(figsize=[20, 10])\n",
    "plt.subplot(221)\n",
    "sns.countplot(train_data['employment_type'], hue=train_data['loan_default'])\n",
    "plt.show()"
   ]
  },
  {
   "cell_type": "code",
   "execution_count": null,
   "metadata": {
    "hidden": true
   },
   "outputs": [],
   "source": [
    "plt.figure(figsize=[20, 10])\n",
    "plt.subplot(221)\n",
    "sns.countplot(train_data[flag_cols[0]], hue=train_data['loan_default'])\n",
    "plt.subplot(222)\n",
    "sns.countplot(train_data[flag_cols[1]], hue=train_data['loan_default'])\n",
    "plt.subplot(223)\n",
    "sns.countplot(train_data[flag_cols[2]], hue=train_data['loan_default'])\n",
    "plt.subplot(224)\n",
    "sns.countplot(train_data[flag_cols[3]], hue=train_data['loan_default'])\n",
    "plt.show()"
   ]
  },
  {
   "cell_type": "code",
   "execution_count": null,
   "metadata": {
    "hidden": true
   },
   "outputs": [],
   "source": [
    "plt.figure(figsize=[20, 15])\n",
    "plt.subplot(311)\n",
    "sns.countplot(train_data['branch_id'],\n",
    "              order=train_data['branch_id'].value_counts().index,\n",
    "              hue=train_data['loan_default'])\n",
    "plt.xticks(rotation='vertical')\n",
    "\n",
    "plt.subplot(312)\n",
    "sns.countplot(train_data['state_id'],\n",
    "              order=train_data['state_id'].value_counts().index,\n",
    "              hue=train_data['loan_default'])\n",
    "plt.xticks(rotation='vertical')\n",
    "\n",
    "plt.subplot(313)\n",
    "sns.countplot(train_data['manufacturer_id'],\n",
    "              order=train_data['manufacturer_id'].value_counts().index,\n",
    "              hue=train_data['loan_default'])\n",
    "plt.xticks(rotation='vertical')\n",
    "plt.show()"
   ]
  },
  {
   "cell_type": "code",
   "execution_count": null,
   "metadata": {
    "hidden": true
   },
   "outputs": [],
   "source": [
    "train_data['perform_cns_score_description'].value_counts()"
   ]
  },
  {
   "cell_type": "code",
   "execution_count": null,
   "metadata": {
    "hidden": true
   },
   "outputs": [],
   "source": [
    "plt.figure(figsize=[20, 5])\n",
    "plt.subplot(121)\n",
    "sns.boxplot(train_data['perform_cns_score'])\n",
    "plt.show()"
   ]
  },
  {
   "cell_type": "code",
   "execution_count": null,
   "metadata": {
    "hidden": true
   },
   "outputs": [],
   "source": [
    "plt.figure(figsize=[20, 5])\n",
    "plt.subplot(121)\n",
    "sns.boxplot(data=train_data[[i for i in train_data.columns\n",
    "                             if 'pri' in i][0:3]],\n",
    "            orient='v')\n",
    "plt.subplot(122)\n",
    "sns.boxplot(data=train_data[[i for i in train_data.columns\n",
    "                             if 'pri' in i][0:3]],\n",
    "            orient='v',\n",
    "            showfliers=False)\n",
    "plt.show()"
   ]
  },
  {
   "cell_type": "markdown",
   "metadata": {
    "hidden": true
   },
   "source": [
    "* **outlier for pri_disbured_amount at 1e9**\n",
    "* **outlier for pri_current_balance below 0**"
   ]
  },
  {
   "cell_type": "code",
   "execution_count": null,
   "metadata": {
    "hidden": true
   },
   "outputs": [],
   "source": [
    "plt.figure(figsize=[20, 8])\n",
    "plt.subplot(121)\n",
    "sns.boxplot(data=train_data[[i for i in train_data.columns if 'pri' in i\n",
    "                             ]][train_data.pri_disbursed_amount < 1e8],\n",
    "            orient='h',\n",
    "            showfliers=False)\n",
    "plt.subplot(122)\n",
    "sns.boxplot(data=train_data[[i for i in train_data.columns if 'pri' in i\n",
    "                             ]][train_data.pri_disbursed_amount < 1e8],\n",
    "            orient='h',\n",
    "            showfliers=True)\n",
    "\n",
    "plt.tight_layout()\n",
    "plt.show()"
   ]
  },
  {
   "cell_type": "code",
   "execution_count": null,
   "metadata": {
    "hidden": true
   },
   "outputs": [],
   "source": [
    "plt.figure(figsize=[20, 8])\n",
    "plt.subplot(121)\n",
    "sns.boxplot(data=np.log1p(train_data[[\n",
    "    i for i in train_data.columns if 'pri' in i\n",
    "]][train_data.pri_disbursed_amount < 1e8]),\n",
    "            orient='h',\n",
    "            showfliers=False)\n",
    "plt.subplot(122)\n",
    "sns.boxplot(data=np.log1p(train_data[[\n",
    "    i for i in train_data.columns if 'pri' in i\n",
    "]][train_data.pri_disbursed_amount < 1e8]),\n",
    "            orient='h',\n",
    "            showfliers=True)\n",
    "\n",
    "plt.tight_layout()\n",
    "plt.show()"
   ]
  },
  {
   "cell_type": "code",
   "execution_count": null,
   "metadata": {
    "hidden": true
   },
   "outputs": [],
   "source": [
    "plt.figure(figsize=[20, 8])\n",
    "plt.subplot(121)\n",
    "sns.boxplot(data=train_data[[i for i in train_data.columns if 'sec' in i]],\n",
    "            orient='h',\n",
    "            showfliers=False)\n",
    "plt.subplot(122)\n",
    "sns.boxplot(data=train_data[[i for i in train_data.columns if 'sec' in i]],\n",
    "            orient='h',\n",
    "            showfliers=True)\n",
    "\n",
    "plt.tight_layout()\n",
    "plt.show()"
   ]
  },
  {
   "cell_type": "code",
   "execution_count": null,
   "metadata": {
    "hidden": true
   },
   "outputs": [],
   "source": [
    "plt.figure(figsize=[20, 8])\n",
    "plt.subplot(121)\n",
    "sns.boxplot(data=np.log1p(train_data[[\n",
    "    i for i in train_data.columns if 'sec' in i\n",
    "]][train_data.pri_disbursed_amount < 1e8]),\n",
    "            orient='h',\n",
    "            showfliers=False)\n",
    "plt.subplot(122)\n",
    "sns.boxplot(data=np.log1p(train_data[[\n",
    "    i for i in train_data.columns if 'sec' in i\n",
    "]][train_data.pri_disbursed_amount < 1e8]),\n",
    "            orient='h',\n",
    "            showfliers=True)\n",
    "\n",
    "plt.tight_layout()\n",
    "plt.show()"
   ]
  },
  {
   "cell_type": "code",
   "execution_count": null,
   "metadata": {
    "hidden": true
   },
   "outputs": [],
   "source": [
    "plt.figure(figsize=[20, 20])\n",
    "plt.subplot(411)\n",
    "sns.boxplot(data=train_data[['primary_instal_amt', 'sec_instal_amt']],\n",
    "            orient='h',\n",
    "            showfliers=True)\n",
    "plt.subplot(412)\n",
    "sns.boxplot(data=train_data[[\n",
    "    'new_accts_in_last_six_months', 'delinquent_accts_in_last_six_months'\n",
    "]],\n",
    "            orient='h',\n",
    "            showfliers=True)\n",
    "plt.subplot(413)\n",
    "sns.boxplot(data=np.log1p(train_data[['primary_instal_amt',\n",
    "                                      'sec_instal_amt']]),\n",
    "            orient='h',\n",
    "            showfliers=True)"
   ]
  },
  {
   "cell_type": "code",
   "execution_count": null,
   "metadata": {
    "hidden": true
   },
   "outputs": [],
   "source": [
    "plt.figure(figsize=[20, 10])\n",
    "plt.subplot(221)\n",
    "sns.boxplot(x='credit_history_length',\n",
    "            data=train_data_1,\n",
    "            orient='h',\n",
    "            showfliers=True,\n",
    "            y='loan_default')\n",
    "plt.subplot(222)\n",
    "sns.boxplot(x='average_acct_age',\n",
    "            data=train_data_1,\n",
    "            orient='h',\n",
    "            showfliers=True,\n",
    "            y='loan_default')\n",
    "\n",
    "plt.subplot(223)\n",
    "sns.boxplot(x=np.log1p(train_data_1['credit_history_length']),\n",
    "            orient='h',\n",
    "            showfliers=True,\n",
    "            y=train_data_1['loan_default'])\n",
    "plt.subplot(224)\n",
    "sns.boxplot(x=np.log1p(train_data_1['average_acct_age']),\n",
    "            orient='h',\n",
    "            showfliers=True,\n",
    "            y=train_data_1['loan_default'])"
   ]
  },
  {
   "cell_type": "code",
   "execution_count": null,
   "metadata": {
    "hidden": true,
    "scrolled": true
   },
   "outputs": [],
   "source": [
    "sns.boxplot(train_data_1['no_of_inquiries'])"
   ]
  },
  {
   "cell_type": "code",
   "execution_count": null,
   "metadata": {
    "hidden": true
   },
   "outputs": [],
   "source": [
    "plt.figure(figsize=[15, 5])\n",
    "plt.subplot(121)\n",
    "sns.boxplot(data=train_data_1[['disbursed_amount', 'asset_cost', 'ltv']])\n",
    "plt.subplot(122)\n",
    "sns.boxplot(data=train_data_1[['disbursed_amount', 'asset_cost', 'ltv']],\n",
    "            showfliers=False)"
   ]
  },
  {
   "cell_type": "code",
   "execution_count": null,
   "metadata": {
    "hidden": true
   },
   "outputs": [],
   "source": []
  },
  {
   "cell_type": "code",
   "execution_count": null,
   "metadata": {
    "hidden": true,
    "scrolled": true
   },
   "outputs": [],
   "source": [
    "train_data_1[train_data_1.date_of_birth.apply(\n",
    "    lambda x: [int(i) for i in x.split('-')][2]) > 19].date_of_birth.apply(\n",
    "        lambda x: [int(i) for i in x.split('-')][2]).unique()"
   ]
  },
  {
   "cell_type": "code",
   "execution_count": null,
   "metadata": {
    "hidden": true
   },
   "outputs": [],
   "source": [
    "[int(i) for i in train_data_1.loc[,'date_of_birth'].split('-')][2]"
   ]
  },
  {
   "cell_type": "code",
   "execution_count": null,
   "metadata": {
    "hidden": true
   },
   "outputs": [],
   "source": [
    "pd.to_datetime(train_data_1.loc[9,'date_of_birth'])"
   ]
  },
  {
   "cell_type": "code",
   "execution_count": null,
   "metadata": {
    "hidden": true,
    "scrolled": true
   },
   "outputs": [],
   "source": [
    "train_data_1[train_data_1.person_age < 0][['disbursaldate','date_of_birth']]"
   ]
  },
  {
   "cell_type": "markdown",
   "metadata": {},
   "source": [
    "# Feature Engineering"
   ]
  },
  {
   "cell_type": "code",
   "execution_count": 51,
   "metadata": {},
   "outputs": [],
   "source": [
    "# Converting columns\n",
    "cols = [i for i in train_data.columns if 'pri' in i] + [i for i in train_data.columns if 'sec' in i] + \\\n",
    "        ['primary_instal_amt','sec_instal_amt','credit_history_length','average_acct_age','disbursed_amount','asset_cost'] \n",
    "train_cols = [i for i in train_data.columns if i not in ['uniqueid','perform_cns_score','date_of_birth','employment_type','disbursaldate','perform_cns_score_description','loan_default']]\n",
    "# train_data_1 = normalize_cols(train_data_1, cols)\n",
    "# test_data_1 = normalize_cols(test_data_1,cols)\n",
    "\n",
    "train_data.loc[:,'person_age'] = np.asarray(\n",
    "    list(\n",
    "        map(lambda x: x.days / 365,\n",
    "            (train_data.disbursaldate.apply(lambda x: datetime.strptime(x, '%d-%m-%y')) - train_data.date_of_birth.apply(\n",
    "                lambda x: datetime.strptime(x, '%d-%m-%y'))))))\n",
    "test_data.loc[:,'person_age'] = np.asarray(\n",
    "    list(\n",
    "        map(lambda x: x.days / 365,\n",
    "            (test_data.disbursaldate.apply(lambda x: datetime.strptime(x, '%d-%m-%y')) - test_data.date_of_birth.apply(\n",
    "                    lambda x: datetime.strptime(x, '%d-%m-%y'))))))\n",
    "\n",
    "group_cols = ['branch_id','manufacturer_id','supplier_id','current_pincode_id','state_id']\n"
   ]
  },
  {
   "cell_type": "code",
   "execution_count": null,
   "metadata": {},
   "outputs": [],
   "source": [
    "train_data_1[['perform_cns_score','perform_cns_score_description']].groupby('perform_cns_score_description').describe()"
   ]
  },
  {
   "cell_type": "code",
   "execution_count": 125,
   "metadata": {},
   "outputs": [],
   "source": [
    "# train_data.loc[:,'pri_by_score'] = train_data.pri_current_balance/train_data.ltv\n",
    "# test_data.loc[:,'pri_by_score'] = test_data.pri_current_balance/test_data.ltv\n",
    "train_data_1 =create_cols(train_data, group_cols)\n",
    "test_data_1 = create_cols(test_data,group_cols)"
   ]
  },
  {
   "cell_type": "markdown",
   "metadata": {},
   "source": [
    "# Predictive modelling"
   ]
  },
  {
   "cell_type": "code",
   "execution_count": 127,
   "metadata": {},
   "outputs": [],
   "source": [
    "train_cols = [i for i in train_data_1.columns if i not in ['uniqueid','date_of_birth','employment_type',\n",
    "                                                           'disbursaldate','perform_cns_score_description','loan_default']]"
   ]
  },
  {
   "cell_type": "code",
   "execution_count": 227,
   "metadata": {},
   "outputs": [],
   "source": []
  },
  {
   "cell_type": "code",
   "execution_count": 220,
   "metadata": {},
   "outputs": [],
   "source": [
    "x_train,x_test, y_train,y_test = train_test_split(train_data_1[train_cols][train_data_1.perform_cns_score > 0], \n",
    "                                                  train_data_1['loan_default'][train_data_1.perform_cns_score> 0],\n",
    "                                                  test_size = 0.2, \n",
    "                                                  shuffle = True, \n",
    "                                                  stratify = train_data_1['loan_default'][train_data_1.perform_cns_score > 0])"
   ]
  },
  {
   "cell_type": "code",
   "execution_count": 92,
   "metadata": {},
   "outputs": [
    {
     "name": "stdout",
     "output_type": "stream",
     "text": [
      "Fitting 3 folds for each of 5 candidates, totalling 15 fits\n"
     ]
    },
    {
     "name": "stderr",
     "output_type": "stream",
     "text": [
      "[Parallel(n_jobs=6)]: Using backend LokyBackend with 6 concurrent workers.\n",
      "[Parallel(n_jobs=6)]: Done  10 out of  15 | elapsed:  3.8min remaining:  1.9min\n",
      "[Parallel(n_jobs=6)]: Done  15 out of  15 | elapsed:  5.2min finished\n"
     ]
    }
   ],
   "source": [
    "rand_search = optimal_xgboost(train_data_1[train_cols][train_data_1.perform_cns_score == 0], train_data_1['loan_default'][train_data_1.perform_cns_score== 0])"
   ]
  },
  {
   "cell_type": "code",
   "execution_count": 96,
   "metadata": {},
   "outputs": [
    {
     "data": {
      "text/plain": [
       "{'subsample': 0.6,\n",
       " 'n_estimators': 600,\n",
       " 'min_child_weight': 10,\n",
       " 'max_depth': 3,\n",
       " 'learning_rate': 0.1,\n",
       " 'gamma': 1,\n",
       " 'colsample_bytree': 0.6}"
      ]
     },
     "execution_count": 96,
     "metadata": {},
     "output_type": "execute_result"
    }
   ],
   "source": [
    "rand_search.best_params_"
   ]
  },
  {
   "cell_type": "code",
   "execution_count": 221,
   "metadata": {
    "scrolled": false
   },
   "outputs": [
    {
     "data": {
      "text/plain": [
       "RandomForestClassifier(bootstrap=True, class_weight=None, criterion='gini',\n",
       "            max_depth=4, max_features='auto', max_leaf_nodes=None,\n",
       "            min_impurity_decrease=0.0, min_impurity_split=None,\n",
       "            min_samples_leaf=1, min_samples_split=2,\n",
       "            min_weight_fraction_leaf=0.0, n_estimators=400, n_jobs=None,\n",
       "            oob_score=False, random_state=None, verbose=0,\n",
       "            warm_start=False)"
      ]
     },
     "execution_count": 221,
     "metadata": {},
     "output_type": "execute_result"
    }
   ],
   "source": [
    "# params = {'tree_method' : 'gpu_hist'}\n",
    "xg_model = XGBClassifier(**rand_search.best_params_)\n",
    "xg_model.fit(x_train,y_train)\n",
    "lg_model = LGBMClassifier(**rand_search.best_params_)\n",
    "lg_model.fit(x_train,y_train)\n",
    "rf_model = RandomForestClassifier(max_depth = 4, n_estimators= 400)\n",
    "rf_model.fit(x_train,y_train)"
   ]
  },
  {
   "cell_type": "code",
   "execution_count": 130,
   "metadata": {
    "scrolled": false
   },
   "outputs": [
    {
     "data": {
      "text/plain": [
       "<matplotlib.axes._subplots.AxesSubplot at 0x2a583e147f0>"
      ]
     },
     "execution_count": 130,
     "metadata": {},
     "output_type": "execute_result"
    },
    {
     "data": {
      "image/png": "[encoded data removed]",
      "text/plain": [
       "<Figure size 504x576 with 1 Axes>"
      ]
     },
     "metadata": {},
     "output_type": "display_data"
    }
   ],
   "source": [
    "my_plot_importance(xg_model,[7,8])"
   ]
  },
  {
   "cell_type": "code",
   "execution_count": 131,
   "metadata": {},
   "outputs": [],
   "source": [
    "predictions = xg_model.predict(x_test)"
   ]
  },
  {
   "cell_type": "code",
   "execution_count": 222,
   "metadata": {},
   "outputs": [
    {
     "data": {
      "text/plain": [
       "0.6825613368792517"
      ]
     },
     "execution_count": 222,
     "metadata": {},
     "output_type": "execute_result"
    }
   ],
   "source": [
    "# print(accuracy_score(y_test, predictions),\n",
    "# precision_score(y_test, predictions))\n",
    "fpr, tpr, thresholds = roc_curve(y_test, np.asarray([i[1] for i in list(xg_model.predict_proba(x_test))]), pos_label=1)\n",
    "auc(fpr, tpr)"
   ]
  },
  {
   "cell_type": "markdown",
   "metadata": {},
   "source": [
    "# Stacking"
   ]
  },
  {
   "cell_type": "code",
   "execution_count": null,
   "metadata": {},
   "outputs": [],
   "source": [
    "def meta_learner(x,y, x_test,y_test,train_cols,params):\n",
    "#     train_pos_cns = train_df[train_df.perform_cns_score >0]\n",
    "#     train_zero_cns = train_df[train_df.perform_cns_score == 0]\n",
    "#     test_pos_cns = test_df[test_df.perform_cns_score > 0]\n",
    "#     test_zero_cns = test_df[test_df.perform_cns_score == 0]\n",
    "    xg_model_ = XGBClassifier(**params)\n",
    "    xg_model.fit(x,y)\n",
    "    lg_model = LGBMClassifier(**params)\n",
    "    lg_model.fit(x,y)\n",
    "    rf_model = RandomForestClassifier(max_depth = 4, n_estimators= 400)\n",
    "    rf_model.fit(x,y)\n",
    "    \n",
    "    xg_preds = xg_model.predict_proba(x_test)[:,1]\n",
    "    lg_preds = lg_model.predict_proba(x_test)[:,1]\n",
    "    rf_preds = rf_model.predict_proba(x_test)[:,1]\n",
    "    \n",
    "    preds_df = pd.DataFrame({'xgb':xg_preds,\n",
    "           'lgb': lg_preds,\n",
    "           'rf': rf_preds,\n",
    "           'label': y_test}).reset_index(drop = True)\n",
    "    \n",
    "    nnet = KerasClassifier(\n",
    "            build_fn=baseline_model,\n",
    "            epochs=20,\n",
    "            batch_size=32)\n",
    "    fit = nnet.fit(preds_df.loc[:,['xgb','lgb','rf']], to_categorical(preds_df.loc[:,'label']))\n",
    "    \n",
    "    return nnet"
   ]
  },
  {
   "cell_type": "code",
   "execution_count": null,
   "metadata": {},
   "outputs": [],
   "source": []
  },
  {
   "cell_type": "code",
   "execution_count": null,
   "metadata": {},
   "outputs": [],
   "source": []
  },
  {
   "cell_type": "code",
   "execution_count": null,
   "metadata": {},
   "outputs": [],
   "source": []
  },
  {
   "cell_type": "markdown",
   "metadata": {},
   "source": [
    "# Submission"
   ]
  },
  {
   "cell_type": "code",
   "execution_count": null,
   "metadata": {},
   "outputs": [],
   "source": [
    "output_no = input()\n",
    "submit(output_no, test_data, train_cols, model)"
   ]
  },
  {
   "cell_type": "code",
   "execution_count": null,
   "metadata": {},
   "outputs": [],
   "source": []
  },
  {
   "cell_type": "code",
   "execution_count": null,
   "metadata": {},
   "outputs": [],
   "source": [
    "skf = StratifiedKFold(n_splits=folds, random_state=1001)\n",
    "for i, (train_index, test_index) in enumerate(skf.split(preds_df.loc[:,['xgb','lgb','rf']].values, preds_df.loc[:,'label'])):\n",
    "    X_train, X_val = train[train_index], train[test_index]\n",
    "    y_train, y_val = target[train_index], target[test_index]\n",
    "    train_ids, val_ids = tr_ids[train_index], tr_ids[test_index]\n",
    "    \n",
    "# This is where we define and compile the model. These parameters are not optimal, as they were chosen \n",
    "# to get a notebook to complete in 60 minutes. Other than leaving BatchNormalization and last sigmoid \n",
    "# activation alone, virtually everything else can be optimized: number of neurons, types of initializers, \n",
    "# activation functions, dropout values. The same goes for the optimizer at the end.\n",
    "\n",
    "#########\n",
    "# Never move this model definition to the beginning of the file or anywhere else outside of this loop. \n",
    "# The model needs to be initialized anew every time you run a different fold. If not, it will continue \n",
    "# the training from a previous model, and that is not what you want.\n",
    "#########\n",
    "\n",
    "    # This definition must be within the for loop or else it will continue training previous model\n",
    "    def baseline_model():\n",
    "        model = Sequential()\n",
    "        model.add(Dense(200,input_dim=X_train.shape[1],kernel_initializer='glorot_normal'))\n",
    "        model.add(Activation('relu'))\n",
    "        model.add(BatchNormalization())\n",
    "        model.add(Dropout(0.5))\n",
    "        model.add(Dense(100, kernel_initializer='glorot_normal'))\n",
    "        model.add(Activation('relu'))\n",
    "        model.add(BatchNormalization())\n",
    "        model.add(Dropout(0.25))\n",
    "        model.add(Dense(50, kernel_initializer='glorot_normal'))\n",
    "        model.add(Activation('relu'))\n",
    "        model.add(BatchNormalization())\n",
    "        model.add(Dropout(0.15))\n",
    "        model.add(Dense(25, kernel_initializer='glorot_normal'))\n",
    "        model.add(Activation('relu'))\n",
    "        model.add(BatchNormalization())\n",
    "        model.add(Dropout(0.1))\n",
    "        model.add(Dense(1, activation='sigmoid'))\n",
    "\n",
    "        # Compile model\n",
    "        model.compile(optimizer='adam', metrics = ['accuracy'], loss='binary_crossentropy')\n",
    "\n",
    "        return model\n",
    "\n",
    "# This is where we repeat the runs for each fold. If you choose runs=1 above, it will run a \n",
    "# regular N-fold procedure.\n",
    "\n",
    "#########\n",
    "# It is important to leave the call to random seed here, so each run starts with a different seed.\n",
    "#########\n",
    "\n",
    "    for run in range(runs):\n",
    "        print('\\n Fold %d - Run %d\\n' % ((i + 1), (run + 1)))\n",
    "        np.random.seed()\n",
    "\n",
    "# Lots to unpack here.\n",
    "\n",
    "# The first callback prints out roc_auc and gini values at the end of each epoch. It must be listed \n",
    "# before the EarlyStopping callback, which monitors gini values saved in the previous callback. Make \n",
    "# sure to set the mode to \"max\" because the default value (\"auto\") will not handle gini properly \n",
    "# (it will act as if the model is not improving even when roc/gini go up).\n",
    "\n",
    "# CSVLogger creates a record of all iterations. Not really needed but it doesn't hurt to have it.\n",
    "\n",
    "# ModelCheckpoint saves a model each time gini improves. Its mode also must be set to \"max\" for reasons \n",
    "# explained above.\n",
    "\n",
    "        callbacks = [\n",
    "            roc_auc_callback(training_data=(X_train, y_train),validation_data=(X_val, y_val)),  # call this before EarlyStopping\n",
    "            EarlyStopping(monitor='norm_gini_val', patience=patience, mode='max', verbose=1),\n",
    "            CSVLogger('keras-5fold-run-01-v1-epochs.log', separator=',', append=False),\n",
    "            ModelCheckpoint(\n",
    "                    'keras-5fold-run-01-v1-fold-' + str('%02d' % (i + 1)) + '-run-' + str('%02d' % (run + 1)) + '.check',\n",
    "                    monitor='norm_gini_val', mode='max', # mode must be set to max or Keras will be confused\n",
    "                    save_best_only=True,\n",
    "                    verbose=1)\n",
    "        ]\n",
    "\n",
    "# The classifier is defined here. Epochs should be be set to a very large number (not 3 like below) which \n",
    "# will never be reached anyway because of early stopping. I usually put 5000 there. Because why not.\n",
    "\n",
    "        nnet = KerasClassifier(\n",
    "            build_fn=baseline_model,\n",
    "# Epoch needs to be set to a very large number ; early stopping will prevent it from reaching\n",
    "#            epochs=5000,\n",
    "            epochs=3,\n",
    "            batch_size=batchsize,\n",
    "            validation_data=(X_val, y_val),\n",
    "            verbose=2,\n",
    "            shuffle=True,\n",
    "            callbacks=callbacks)\n",
    "\n",
    "        fit = nnet.fit(X_train, y_train)\n",
    "        \n",
    "# We want the best saved model - not the last one where the training stopped. So we delete the old \n",
    "# model instance and load the model from the last saved checkpoint. Next we predict values both for \n",
    "# validation and test data, and create a summary of parameters for each run.\n",
    "\n",
    "        del nnet\n",
    "        nnet = load_model('keras-5fold-run-01-v1-fold-' + str('%02d' % (i + 1)) + '-run-' + str('%02d' % (run + 1)) + '.check')\n",
    "        scores_val_run = nnet.predict_proba(X_val, verbose=0)\n",
    "        LL_run = log_loss(y_val, scores_val_run)\n",
    "        print('\\n Fold %d Run %d Log-loss: %.5f' % ((i + 1), (run + 1), LL_run))\n",
    "        AUC_run = roc_auc_score(y_val, scores_val_run)\n",
    "        print(' Fold %d Run %d AUC: %.5f' % ((i + 1), (run + 1), AUC_run))\n",
    "        print(' Fold %d Run %d normalized gini: %.5f' % ((i + 1), (run + 1), AUC_run*2-1))\n",
    "        y_pred_run = nnet.predict_proba(test, verbose=0)\n",
    "        if run > 0:\n",
    "            scores_val = scores_val + scores_val_run\n",
    "            y_pred = y_pred + y_pred_run\n",
    "        else:\n",
    "            scores_val = scores_val_run\n",
    "            y_pred = y_pred_run\n",
    "            \n",
    "# We average all runs from the same fold and provide a parameter summary for each fold. Unless something \n",
    "# is wrong, the numbers printed here should be better than any of the individual runs.\n",
    "\n",
    "    scores_val = scores_val / runs\n",
    "    y_pred = y_pred / runs\n",
    "    LL = log_loss(y_val, scores_val)\n",
    "    print('\\n Fold %d Log-loss: %.5f' % ((i + 1), LL))\n",
    "    AUC = roc_auc_score(y_val, scores_val)\n",
    "    print(' Fold %d AUC: %.5f' % ((i + 1), AUC))\n",
    "    print(' Fold %d normalized gini: %.5f' % ((i + 1), AUC*2-1))\n",
    "    timer(start_time)\n",
    "    \n",
    "# We add up predictions on the test data for each fold. Create out-of-fold predictions for validation data.\n",
    "\n",
    "    if i > 0:\n",
    "        fpred = pred + y_pred\n",
    "        avreal = np.concatenate((avreal, y_val), axis=0)\n",
    "        avpred = np.concatenate((avpred, scores_val), axis=0)\n",
    "        avids = np.concatenate((avids, val_ids), axis=0)\n",
    "    else:\n",
    "        fpred = y_pred\n",
    "        avreal = y_val\n",
    "        avpred = scores_val\n",
    "        avids = val_ids\n",
    "    pred = fpred\n",
    "    cv_LL = cv_LL + LL\n",
    "    cv_AUC = cv_AUC + AUC\n",
    "    cv_gini = cv_gini + (AUC*2-1)"
   ]
  },
  {
   "cell_type": "code",
   "execution_count": null,
   "metadata": {},
   "outputs": [],
   "source": [
    "reg_train_data = pd.concat([train_data_1[train_data_1.perform_cns_score > 20],test_data_1[test_data_1.perform_cns_score > 20]],axis = 0)\n",
    "reg_test_data = train_data_1[train_data_1.perform_cns_score  == 0]\n",
    "\n",
    "train_x_reg, test_x_reg, train_y_reg, test_y_reg = train_test_split(reg_train_data[[i for i in train_cols if 'cns' not in i]], \n",
    "                                                                   reg_train_data['perform_cns_score'], test_size = 0.2)"
   ]
  },
  {
   "cell_type": "code",
   "execution_count": null,
   "metadata": {},
   "outputs": [],
   "source": [
    "xgb_reg_model = XGBRegressor(n_estimators = 600, \n",
    "                         max_depth = 7,\n",
    "                         random_state = 42, \n",
    "                         n_jobs = 6)\n",
    "xgb_reg_model.fit(reg_train_data[[i for i in train_cols if 'cns' not in i]],reg_train_data['perform_cns_score'])"
   ]
  },
  {
   "cell_type": "code",
   "execution_count": null,
   "metadata": {},
   "outputs": [],
   "source": [
    "train_data_1.loc[train_data_1.perform_cns_score  == 0, 'score_1'] = xgb_reg_model.predict(train_data_1[train_data_1.perform_cns_score  == 0][[i for i in train_cols if 'cns' not in i]])\n",
    "test_data_1.loc[test_data_1.perform_cns_score  == 0, 'score_1'] = xgb_reg_model.predict(test_data_1[test_data_1.perform_cns_score  == 0][[i for i in train_cols if 'cns' not in i]])\n",
    "\n",
    "train_data_1.loc[train_data_1.perform_cns_score > 0, 'score_1'] = train_data_1.loc[train_data_1.perform_cns_score > 0, 'perform_cns_score']\n",
    "test_data_1.loc[test_data_1.perform_cns_score > 0, 'score_1'] = test_data_1.loc[test_data_1.perform_cns_score > 0, 'perform_cns_score']"
   ]
  },
  {
   "cell_type": "code",
   "execution_count": null,
   "metadata": {},
   "outputs": [],
   "source": []
  }
 ],
 "metadata": {
  "kernelspec": {
   "display_name": "Pytorch Environment",
   "language": "python",
   "name": "myenv"
  },
  "language_info": {
   "codemirror_mode": {
    "name": "ipython",
    "version": 3
   },
   "file_extension": ".py",
   "mimetype": "text/x-python",
   "name": "python",
   "nbconvert_exporter": "python",
   "pygments_lexer": "ipython3",
   "version": "3.6.8"
  },
  "toc": {
   "base_numbering": 1,
   "nav_menu": {},
   "number_sections": true,
   "sideBar": true,
   "skip_h1_title": false,
   "title_cell": "Table of Contents",
   "title_sidebar": "Contents",
   "toc_cell": false,
   "toc_position": {},
   "toc_section_display": true,
   "toc_window_display": false
  }
 },
 "nbformat": 4,
 "nbformat_minor": 2
}
