{
 "cells": [
  {
   "cell_type": "markdown",
   "metadata": {},
   "source": [
    "## Image Classification Competition"
   ]
  },
  {
   "cell_type": "markdown",
   "metadata": {},
   "source": [
    "### Problem Statement\n",
    "\n",
    "We are given a large class of flowers, 102 to be precise. Build a flower classification model which is discriminative between classes but can correctly classify all flower images belonging to the same class. There are a total of 20549 (train + test) images of flowers. Predict the category of the flowers present in the test folder with good accuracy.\n",
    "\n",
    "### Guidelines\n",
    "\n",
    "* Your output will be evaluated only for 50% of the test data while the contest is running. Once the contest is over, output for the remaining 50% of the data will be evaluated and the final rank will be awarded.\n",
    "* You will have to upload your output on the problem page in the format given in the problem statement. In addition to your output, you will also have to submit your source and other files in .zip or .tar compressed archive.\n",
    "* The total number of submission allowed by a participant is 40. The maximum number of submission a participant can make in a day is five."
   ]
  },
  {
   "cell_type": "markdown",
   "metadata": {},
   "source": [
    "### Importing Libraries"
   ]
  },
  {
   "cell_type": "code",
   "execution_count": null,
   "metadata": {},
   "outputs": [],
   "source": [
    "import torch\n",
    "import torch.optim\n",
    "import pandas as pd\n",
    "import os\n",
    "import seaborn as sns\n",
    "import numpy as np\n",
    "import matplotlib.pyplot as plt\n",
    "import matplotlib.image as mpimg\n",
    "import shutil\n",
    "from torch.utils import data\n",
    "import torchvision.datasets as datasets\n",
    "from torch.utils.data import DataLoader\n",
    "from torchvision.transforms import transforms\n",
    "import torchvision.transforms.functional as functional\n",
    "from skimage import io, transform\n",
    "import torch.nn as nn\n",
    "import torch.optim as optim\n",
    "import copy\n",
    "import torchvision\n",
    "from torch.utils.data.dataset import Dataset\n",
    "from torch.autograd import Variable\n",
    "from PIL import Image\n",
    "import cv2\n",
    "import pdb,tqdm\n",
    "%matplotlib inline"
   ]
  },
  {
   "cell_type": "markdown",
   "metadata": {},
   "source": [
    "### Setting device"
   ]
  },
  {
   "cell_type": "code",
   "execution_count": null,
   "metadata": {},
   "outputs": [],
   "source": [
    "device = torch.device('cuda' if torch.cuda.is_available() else 'cpu')"
   ]
  },
  {
   "cell_type": "code",
   "execution_count": null,
   "metadata": {},
   "outputs": [],
   "source": [
    "def show_image(filename):\n",
    "    img = mpimg.imread('../data/train/images/'+filename)\n",
    "    imgplot = plt.imshow(img)\n",
    "    plt.show()"
   ]
  },
  {
   "cell_type": "code",
   "execution_count": null,
   "metadata": {},
   "outputs": [],
   "source": [
    "def set_parameter_requires_grad(model, feature_extracting):\n",
    "    if feature_extracting:\n",
    "        for param in model.parameters():\n",
    "            param.requires_grad = False"
   ]
  },
  {
   "cell_type": "code",
   "execution_count": 5,
   "metadata": {},
   "outputs": [],
   "source": [
    "path = '../Data/data/'"
   ]
  },
  {
   "cell_type": "code",
   "execution_count": null,
   "metadata": {},
   "outputs": [],
   "source": [
    "train_files = pd.read_csv(os.path.join(path, 'train.csv'))\n",
    "test_files = pd.read_csv(os.path.join(path, 'test.csv'))"
   ]
  },
  {
   "cell_type": "markdown",
   "metadata": {},
   "source": [
    "### Defining Data Loader Class"
   ]
  },
  {
   "cell_type": "code",
   "execution_count": null,
   "metadata": {
    "ExecuteTime": {
     "end_time": "2019-05-27T17:15:23.781763Z",
     "start_time": "2019-05-27T17:15:23.775606Z"
    },
    "code_folding": []
   },
   "outputs": [],
   "source": [
    "class deep_learning_data(Dataset):\n",
    "    def __init__(self, csv_file, root_dir, transform=None, y=True):\n",
    "\n",
    "        self.root_dir = root_dir\n",
    "        self.transform = transform\n",
    "        self.files = pd.read_csv(csv_file)\n",
    "        self.y = y\n",
    "\n",
    "    def __len__(self):\n",
    "        return len(self.files)\n",
    "\n",
    "    def __getitem__(self, idx):\n",
    "        img_name = os.path.join(self.root_dir,\n",
    "                                str(self.files.iloc[idx, 0]) + '.jpg')\n",
    "        image = Image.fromarray(cv2.imread(img_name))\n",
    "        if self.transform:\n",
    "            image = self.transform(image)\n",
    "        if (np.array(image.size()) == np.array([1, 224, 224])).all():\n",
    "            print(img_name)\n",
    "\n",
    "        return (image, self.files.iloc[idx, 1] - 1)"
   ]
  },
  {
   "cell_type": "markdown",
   "metadata": {},
   "source": [
    "### Defining Transformations"
   ]
  },
  {
   "cell_type": "code",
   "execution_count": null,
   "metadata": {
    "ExecuteTime": {
     "end_time": "2019-05-27T17:26:15.758328Z",
     "start_time": "2019-05-27T17:26:15.752873Z"
    }
   },
   "outputs": [],
   "source": [
    "img_transforms = {\n",
    "    'train':\n",
    "    transforms.Compose([\n",
    "        #         transforms.RandomResizedCrop(size = 256, scale=(0.8,1.0)),\n",
    "        #         transforms.RandomRotation(degrees = 15),\n",
    "        #         transforms.ColorJitter(),\n",
    "        #         transforms.RandomHorizontalFlip(),\n",
    "        #         transforms.CenterCrop(size = 224),\n",
    "        transforms.Resize(size=(224, 224)),\n",
    "        transforms.ToTensor(),\n",
    "        #         transforms.Normalize([0.5,0.5,0.5],[0.5,0.5,0.5])\n",
    "    ]),\n",
    "    'valid':\n",
    "    transforms.Compose([\n",
    "        transforms.Resize(size=(224, 224)),\n",
    "        #         transforms.CenterCrop(size=224),\n",
    "        transforms.ToTensor(),\n",
    "        transforms.Normalize([0.5, 0.5, 0.5], [0.5, 0.5, 0.5])\n",
    "    ])\n",
    "}"
   ]
  },
  {
   "cell_type": "code",
   "execution_count": null,
   "metadata": {
    "ExecuteTime": {
     "end_time": "2019-05-27T17:26:16.526616Z",
     "start_time": "2019-05-27T17:26:16.511158Z"
    }
   },
   "outputs": [],
   "source": [
    "train_dataset = deep_learning_data(csv_file=os.path.join(path, 'train.csv'),\n",
    "                                   root_dir=os.path.join(path, 'train'),\n",
    "                                   transform=img_transforms['train'])\n",
    "# test_dataset = deep_learning_data(csv_file = '../data/test_ApKoW4T.csv',\n",
    "#                                  root_dir = '../data/train/images',\n",
    "#                                  transform = img_transforms['valid'])"
   ]
  },
  {
   "cell_type": "code",
   "execution_count": null,
   "metadata": {
    "ExecuteTime": {
     "end_time": "2019-05-27T17:26:16.702375Z",
     "start_time": "2019-05-27T17:26:16.699402Z"
    }
   },
   "outputs": [],
   "source": [
    "train_dataloader = DataLoader(train_dataset,\n",
    "                              batch_size=12,\n",
    "                              shuffle=True,\n",
    "                              num_workers=4)"
   ]
  },
  {
   "cell_type": "code",
   "execution_count": null,
   "metadata": {
    "ExecuteTime": {
     "end_time": "2019-05-27T17:26:26.981849Z",
     "start_time": "2019-05-27T17:26:26.568447Z"
    },
    "scrolled": true
   },
   "outputs": [],
   "source": [
    "def imshow(inp, title=None):\n",
    "    \"\"\"Imshow for Tensor.\"\"\"\n",
    "    inp = inp.numpy().transpose((1, 2, 0))\n",
    "    inp = np.clip(inp, 0, 1)\n",
    "    plt.imshow(inp)\n",
    "    if title is not None:\n",
    "        plt.title(title)  # pause a bit so that plots are updated\n",
    "\n",
    "\n",
    "# Get a batch of training data\n",
    "# inputs contains 4 images because batch_size=4 for the dataloaders\n",
    "inputs, classes = next(iter(train_dataloader))\n",
    "\n",
    "# Make a grid from batch\n",
    "plt.figure(figsize=[20, 10])\n",
    "out = torchvision.utils.make_grid(inputs)\n",
    "imshow(out)"
   ]
  },
  {
   "cell_type": "markdown",
   "metadata": {},
   "source": [
    "### Transfer Learning - Resnet"
   ]
  },
  {
   "cell_type": "code",
   "execution_count": null,
   "metadata": {
    "ExecuteTime": {
     "end_time": "2019-05-27T17:26:26.988054Z",
     "start_time": "2019-05-27T17:26:26.984878Z"
    }
   },
   "outputs": [],
   "source": [
    "from torchvision import models"
   ]
  },
  {
   "cell_type": "code",
   "execution_count": null,
   "metadata": {
    "ExecuteTime": {
     "end_time": "2019-05-27T17:27:19.351602Z",
     "start_time": "2019-05-27T17:27:18.509919Z"
    }
   },
   "outputs": [],
   "source": [
    "num_classes = 102\n",
    "model = models.resnet101(pretrained=False)\n",
    "set_parameter_requires_grad(model, True)\n",
    "num_feats = model.fc.in_features\n",
    "model.fc = nn.Linear(num_feats, num_classes)\n",
    "input_size = 224"
   ]
  },
  {
   "cell_type": "code",
   "execution_count": null,
   "metadata": {},
   "outputs": [],
   "source": [
    "models.resnet101()"
   ]
  },
  {
   "cell_type": "code",
   "execution_count": null,
   "metadata": {
    "ExecuteTime": {
     "end_time": "2019-05-27T17:26:48.720463Z",
     "start_time": "2019-05-27T17:26:48.713707Z"
    },
    "scrolled": true
   },
   "outputs": [],
   "source": [
    "params_to_update = model.parameters()\n",
    "params_to_update = []\n",
    "for name, param in model.named_parameters():\n",
    "    if param.requires_grad == True:\n",
    "        params_to_update.append(param)\n",
    "        print('\\t', name)"
   ]
  },
  {
   "cell_type": "code",
   "execution_count": null,
   "metadata": {
    "ExecuteTime": {
     "end_time": "2019-05-27T17:26:49.836369Z",
     "start_time": "2019-05-27T17:26:49.832602Z"
    }
   },
   "outputs": [],
   "source": [
    "optimizer = optim.SGD(params_to_update, lr= 0.001, momentum = 0.9)\n",
    "criterion = nn.CrossEntropyLoss()"
   ]
  },
  {
   "cell_type": "code",
   "execution_count": null,
   "metadata": {},
   "outputs": [],
   "source": [
    "model = model.cuda()\n",
    "model = nn.DataParallel(model)"
   ]
  },
  {
   "cell_type": "markdown",
   "metadata": {},
   "source": [
    "### Model Training"
   ]
  },
  {
   "cell_type": "code",
   "execution_count": null,
   "metadata": {
    "ExecuteTime": {
     "end_time": "2019-05-27T17:26:52.096297Z",
     "start_time": "2019-05-27T17:26:51.569150Z"
    },
    "scrolled": true
   },
   "outputs": [],
   "source": [
    "n_epochs = 20\n",
    "val_acc_history = []\n",
    "\n",
    "best_acc = 0.0\n",
    "t = tqdm.tqdm_notebook(range(n_epochs))\n",
    "k = tqdm.tqdm_notebook(train_dataloader)\n",
    "for epoch in t:\n",
    "    running_loss = 0.0\n",
    "    running_corrects = 0\n",
    "\n",
    "    for inputs, labels in k:\n",
    "        inputs = inputs.cuda()\n",
    "        labels = labels.cuda()\n",
    "\n",
    "        optimizer.zero_grad()\n",
    "        outputs = model(inputs)\n",
    "        loss = criterion(outputs, labels)\n",
    "\n",
    "        _, preds = torch.max(outputs, 1)\n",
    "\n",
    "        loss.backward()\n",
    "        optimizer.step()\n",
    "\n",
    "    running_loss += loss.item() * inputs.size(0)\n",
    "    running_corrects += torch.sum(preds == labels.data)\n",
    "\n",
    "    epoch_loss = running_loss / len(train_dataloader.dataset)\n",
    "    epoch_acc = running_corrects.double() / len(train_dataloader.dataset)\n",
    "\n",
    "    print('{} Loss : {:.4f} Acc: {:.4f}'.format('Train', epoch_loss,\n",
    "                                                epoch_acc))"
   ]
  },
  {
   "cell_type": "code",
   "execution_count": null,
   "metadata": {},
   "outputs": [],
   "source": [
    "outputs,labels"
   ]
  },
  {
   "cell_type": "markdown",
   "metadata": {},
   "source": [
    "## Fast AI Approach"
   ]
  },
  {
   "cell_type": "markdown",
   "metadata": {},
   "source": [
    "### Loading Libraries"
   ]
  },
  {
   "cell_type": "code",
   "execution_count": 1,
   "metadata": {},
   "outputs": [],
   "source": [
    "import argparse\n",
    "import os\n",
    "import numpy as np\n",
    "import math\n",
    "\n",
    "import torchvision.transforms as transforms\n",
    "from torchvision.utils import save_image\n",
    "\n",
    "from torch.utils.data import DataLoader\n",
    "from torchvision import datasets\n",
    "from torch.autograd import Variable\n",
    "\n",
    "import torch.nn as nn\n",
    "import torch.nn.functional as F\n",
    "import torch\n",
    "from functools import partial\n",
    "from fastai.vision import *\n",
    "import fastai.vision\n",
    "from sklearn.metrics import f1_score\n",
    "import os\n",
    "from PIL import Image\n",
    "from sklearn.metrics import precision_score\n",
    "\n",
    "from torchvision.models import *\n",
    "import pretrainedmodels\n",
    "\n",
    "from fastai.vision.models import *\n",
    "from fastai.vision.learner import model_meta\n",
    "from fastai.vision.gan import GANLearner\n",
    "import cv2\n",
    "from tqdm import tqdm_notebook\n",
    "import tqdm"
   ]
  },
  {
   "cell_type": "markdown",
   "metadata": {},
   "source": [
    "### Data Loading and Preprocessing"
   ]
  },
  {
   "cell_type": "code",
   "execution_count": 6,
   "metadata": {
    "scrolled": true
   },
   "outputs": [],
   "source": [
    "img_size = 224\n",
    "batch_size = 20\n",
    "\n",
    "xtra_tfm = [\n",
    "    brightness(change=[0.3, 0.5]),\n",
    "    contrast(scale=[1.5, 0.5]),\n",
    "    perspective_warp(magnitude=[0.5, 0.7])\n",
    "]\n",
    "\n",
    "tfms = get_transforms(xtra_tfms=xtra_tfm)\n",
    "\n",
    "train_data = (ImageList.from_csv(path, 'train_1.csv', folder='train',cols='image_id')\n",
    "              .split_none()\n",
    "              .label_from_df(cols='category')\n",
    "              .transform(tfms, size=img_size, resize_method=ResizeMethod.SQUISH)\n",
    "              .databunch(bs=batch_size)\n",
    "              .normalize(imagenet_stats))\n",
    "\n",
    "test_data = ImageList.from_csv(path, 'test_1.csv', folder='test')\n",
    "\n",
    "train_data.add_test(test_data)"
   ]
  },
  {
   "cell_type": "markdown",
   "metadata": {},
   "source": [
    "### Model Training"
   ]
  },
  {
   "cell_type": "code",
   "execution_count": 14,
   "metadata": {
    "scrolled": true
   },
   "outputs": [],
   "source": [
    "learn = cnn_learner(train_data, models.resnet101, pretrained = True)"
   ]
  },
  {
   "cell_type": "code",
   "execution_count": 15,
   "metadata": {},
   "outputs": [
    {
     "data": {
      "text/html": [],
      "text/plain": [
       "<IPython.core.display.HTML object>"
      ]
     },
     "metadata": {},
     "output_type": "display_data"
    },
    {
     "name": "stdout",
     "output_type": "stream",
     "text": [
      "LR Finder is complete, type {learner_name}.recorder.plot() to see the graph.\n"
     ]
    }
   ],
   "source": [
    "learn.lr_find()"
   ]
  },
  {
   "cell_type": "code",
   "execution_count": 16,
   "metadata": {},
   "outputs": [
    {
     "data": {
      "image/png": "[encoded data removed]",
      "text/plain": [
       "<Figure size 432x288 with 1 Axes>"
      ]
     },
     "metadata": {
      "needs_background": "light"
     },
     "output_type": "display_data"
    }
   ],
   "source": [
    "learn.recorder.plot()"
   ]
  },
  {
   "cell_type": "code",
   "execution_count": null,
   "metadata": {},
   "outputs": [],
   "source": [
    "learn.fit_one_cycle(25, max_lr = 1e-2)"
   ]
  },
  {
   "cell_type": "markdown",
   "metadata": {},
   "source": [
    "### Predictions"
   ]
  },
  {
   "cell_type": "code",
   "execution_count": null,
   "metadata": {},
   "outputs": [],
   "source": [
    "preds,_ = learn.TTA(ds_type = DatasetType.Test)\n",
    "\n",
    "preds = np.argmax(preds,1)"
   ]
  }
 ],
 "metadata": {
  "kernelspec": {
   "display_name": "Python 3",
   "language": "python",
   "name": "python3"
  },
  "language_info": {
   "codemirror_mode": {
    "name": "ipython",
    "version": 3
   },
   "file_extension": ".py",
   "mimetype": "text/x-python",
   "name": "python",
   "nbconvert_exporter": "python",
   "pygments_lexer": "ipython3",
   "version": "3.7.3"
  }
 },
 "nbformat": 4,
 "nbformat_minor": 2
}
